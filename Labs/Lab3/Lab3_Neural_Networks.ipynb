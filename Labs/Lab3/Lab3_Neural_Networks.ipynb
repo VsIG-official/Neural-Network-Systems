{
  "nbformat": 4,
  "nbformat_minor": 0,
  "metadata": {
    "colab": {
      "name": "Lab3-Neural-Networks",
      "provenance": [],
      "collapsed_sections": []
    },
    "kernelspec": {
      "name": "python3",
      "display_name": "Python 3"
    },
    "language_info": {
      "name": "python"
    }
  },
  "cells": [
    {
      "cell_type": "code",
      "execution_count": 106,
      "metadata": {
        "id": "sU8ajZxAVJMd"
      },
      "outputs": [],
      "source": [
        "import tensorflow as tf\n",
        "import keras\n",
        "import matplotlib.pyplot as plt\n",
        "import cv2"
      ]
    },
    {
      "cell_type": "code",
      "source": [
        "image_size = 28\n",
        "training_text = \"Training -\"\n",
        "test_text = \"Testing -\"\n",
        "relu_activation = 'relu'\n",
        "softmax_activation = 'softmax'\n",
        "optimizer_type = 'rmsprop'\n",
        "loss_type = 'categorical_crossentropy'\n",
        "metrics_type = 'accuracy'\n",
        "batch_size = 256\n",
        "epochs = 20"
      ],
      "metadata": {
        "id": "ownWfQFtiQ1j"
      },
      "execution_count": 107,
      "outputs": []
    },
    {
      "cell_type": "code",
      "source": [
        "(x_train_origin, y_train_origin), (x_test_origin, y_test_origin) = tf.keras.datasets.mnist.load_data()\n",
        "\n",
        "print(training_text, len(x_train_origin))\n",
        "print(test_text, len(x_test_origin))"
      ],
      "metadata": {
        "colab": {
          "base_uri": "https://localhost:8080/"
        },
        "id": "gN5euD6IVMRg",
        "outputId": "0deca082-8c71-4bfe-f653-b3ab050d54a0"
      },
      "execution_count": 108,
      "outputs": [
        {
          "output_type": "stream",
          "name": "stdout",
          "text": [
            "Training - 60000\n",
            "Testing - 10000\n"
          ]
        }
      ]
    },
    {
      "cell_type": "code",
      "source": [
        "print(y_train_origin[1])\n",
        "plt.imshow(x_train_origin[1])"
      ],
      "metadata": {
        "colab": {
          "base_uri": "https://localhost:8080/",
          "height": 300
        },
        "id": "WWn5apwJVOWJ",
        "outputId": "2b038108-4711-4f5f-c418-a626f0996992"
      },
      "execution_count": 109,
      "outputs": [
        {
          "output_type": "stream",
          "name": "stdout",
          "text": [
            "0\n"
          ]
        },
        {
          "output_type": "execute_result",
          "data": {
            "text/plain": [
              "<matplotlib.image.AxesImage at 0x7fa9b50b3190>"
            ]
          },
          "metadata": {},
          "execution_count": 109
        },
        {
          "output_type": "display_data",
          "data": {
            "text/plain": [
              "<Figure size 432x288 with 1 Axes>"
            ],
            "image/png": "[encoded data removed]"
          },
          "metadata": {
            "needs_background": "light"
          }
        }
      ]
    },
    {
      "cell_type": "code",
      "source": [
        "x_train = x_train_origin.reshape((len(x_train_origin), image_size * image_size))\n",
        "x_test = x_test_origin.reshape((len(x_test_origin), image_size * image_size))"
      ],
      "metadata": {
        "id": "GFZFe_JPnQe8"
      },
      "execution_count": 110,
      "outputs": []
    },
    {
      "cell_type": "code",
      "source": [
        "# Normalizes images: `uint8` -> `float32`\n",
        "# TFDS provide images of type tf.uint8, while the model expects\n",
        "# tf.float32. Therefore, you need to normalize images\n",
        "x_train = x_train.astype('float32') / 255\n",
        "x_test = x_test.astype('float32') / 255"
      ],
      "metadata": {
        "id": "ySIV3Ef_5ZHt"
      },
      "execution_count": 111,
      "outputs": []
    },
    {
      "cell_type": "code",
      "source": [
        "# vector which has integers that represent different categories,\n",
        "# can be converted into a numpy array (or) a matrix which has binary \n",
        "# values and has columns equal to the number of categories in the data\n",
        "\n",
        "y_train = tf.keras.utils.to_categorical(y_train_origin)\n",
        "y_test = tf.keras.utils.to_categorical(y_test_origin)"
      ],
      "metadata": {
        "id": "RQT4IZKRvcko"
      },
      "execution_count": 112,
      "outputs": []
    },
    {
      "cell_type": "code",
      "source": [
        "model = keras.models.Sequential([\n",
        "    keras.layers.Dense(512, activation = relu_activation, input_shape = (image_size * image_size,)),\n",
        "    keras.layers.Dense(10, activation = softmax_activation)\n",
        "])\n",
        "model.compile(optimizer = optimizer_type, loss = loss_type, metrics = [metrics_type])"
      ],
      "metadata": {
        "id": "UHx_zhRgacoO"
      },
      "execution_count": 113,
      "outputs": []
    },
    {
      "cell_type": "code",
      "source": [
        "model.fit(x_train, y_train, epochs = epochs, batch_size = batch_size)\n",
        "test_loss, test_acc = model.evaluate(x_test, y_test)"
      ],
      "metadata": {
        "id": "qWCHCN3WbPaS",
        "colab": {
          "base_uri": "https://localhost:8080/"
        },
        "outputId": "2632ed82-5ce6-47e3-d4b9-2f22fc3c251e"
      },
      "execution_count": 114,
      "outputs": [
        {
          "output_type": "stream",
          "name": "stdout",
          "text": [
            "Epoch 1/20\n",
            "235/235 [==============================] - 4s 15ms/step - loss: 0.3121 - accuracy: 0.9100\n",
            "Epoch 2/20\n",
            "235/235 [==============================] - 3s 15ms/step - loss: 0.1278 - accuracy: 0.9625\n",
            "Epoch 3/20\n",
            "235/235 [==============================] - 4s 16ms/step - loss: 0.0836 - accuracy: 0.9759\n",
            "Epoch 4/20\n",
            "235/235 [==============================] - 4s 15ms/step - loss: 0.0613 - accuracy: 0.9816\n",
            "Epoch 5/20\n",
            "235/235 [==============================] - 4s 15ms/step - loss: 0.0466 - accuracy: 0.9863\n",
            "Epoch 6/20\n",
            "235/235 [==============================] - 4s 16ms/step - loss: 0.0360 - accuracy: 0.9897\n",
            "Epoch 7/20\n",
            "235/235 [==============================] - 4s 15ms/step - loss: 0.0285 - accuracy: 0.9919\n",
            "Epoch 8/20\n",
            "235/235 [==============================] - 4s 16ms/step - loss: 0.0220 - accuracy: 0.9942\n",
            "Epoch 9/20\n",
            "235/235 [==============================] - 4s 16ms/step - loss: 0.0175 - accuracy: 0.9955\n",
            "Epoch 10/20\n",
            "235/235 [==============================] - 4s 15ms/step - loss: 0.0134 - accuracy: 0.9965\n",
            "Epoch 11/20\n",
            "235/235 [==============================] - 3s 14ms/step - loss: 0.0105 - accuracy: 0.9976\n",
            "Epoch 12/20\n",
            "235/235 [==============================] - 3s 14ms/step - loss: 0.0082 - accuracy: 0.9981\n",
            "Epoch 13/20\n",
            "235/235 [==============================] - 4s 15ms/step - loss: 0.0065 - accuracy: 0.9986\n",
            "Epoch 14/20\n",
            "235/235 [==============================] - 4s 15ms/step - loss: 0.0052 - accuracy: 0.9988\n",
            "Epoch 15/20\n",
            "235/235 [==============================] - 3s 15ms/step - loss: 0.0041 - accuracy: 0.9991\n",
            "Epoch 16/20\n",
            "235/235 [==============================] - 3s 14ms/step - loss: 0.0029 - accuracy: 0.9994\n",
            "Epoch 17/20\n",
            "235/235 [==============================] - 4s 16ms/step - loss: 0.0024 - accuracy: 0.9995\n",
            "Epoch 18/20\n",
            "235/235 [==============================] - 4s 16ms/step - loss: 0.0019 - accuracy: 0.9996\n",
            "Epoch 19/20\n",
            "235/235 [==============================] - 4s 16ms/step - loss: 0.0016 - accuracy: 0.9996\n",
            "Epoch 20/20\n",
            "235/235 [==============================] - 4s 15ms/step - loss: 0.0015 - accuracy: 0.9996\n",
            "313/313 [==============================] - 1s 3ms/step - loss: 0.0793 - accuracy: 0.9827\n"
          ]
        }
      ]
    },
    {
      "cell_type": "code",
      "source": [
        "def get_images(image_name):\n",
        "  image = 255-cv2.imread(image_name, 0)\n",
        "  image_small = cv2.resize(image, (image_size, image_size))\n",
        "  image_to_predict = image_small.reshape((1, image_size * image_size))\n",
        "\n",
        "  return (image_small, image_to_predict)"
      ],
      "metadata": {
        "id": "QpthELLTm2J_"
      },
      "execution_count": 115,
      "outputs": []
    },
    {
      "cell_type": "code",
      "source": [
        "def predict(image_to_predict):\n",
        "  pred = model.predict(image_to_predict)[0]\n",
        "  for x in range(10):\n",
        "    if (pred[x] == 1.0):\n",
        "      return x\n",
        "    x = int(x) + 1"
      ],
      "metadata": {
        "id": "UA8JVGHuulrG"
      },
      "execution_count": 116,
      "outputs": []
    },
    {
      "cell_type": "code",
      "source": [
        "(first_image, image_to_predict) = get_images('3.png')\n",
        "first_image_prediction = predict(image_to_predict)\n",
        "\n",
        "(second_image, image_to_predict) = get_images('2.png')\n",
        "second_image_prediction = predict(image_to_predict)\n",
        "\n",
        "(third_image, image_to_predict) = get_images('0.png')\n",
        "third_image_prediction = predict(image_to_predict)"
      ],
      "metadata": {
        "id": "m9z9gfQcWpu4"
      },
      "execution_count": 117,
      "outputs": []
    },
    {
      "cell_type": "code",
      "source": [
        "# the way We want to put Our image in model\n",
        "fig = plt.figure()\n",
        "fig.set_size_inches(100, 100)\n",
        "imgplot = plt.imshow(image_to_predict)"
      ],
      "metadata": {
        "colab": {
          "base_uri": "https://localhost:8080/",
          "height": 34
        },
        "id": "44eB-rtmkqlc",
        "outputId": "a772e2f9-38e0-4977-c877-6ffbeb901f47"
      },
      "execution_count": 118,
      "outputs": [
        {
          "output_type": "display_data",
          "data": {
            "text/plain": [
              "<Figure size 7200x7200 with 1 Axes>"
            ],
            "image/png": "[encoded data removed]"
          },
          "metadata": {
            "needs_background": "light"
          }
        }
      ]
    },
    {
      "cell_type": "code",
      "source": [
        "fig = plt.figure()\n",
        "ax = fig.add_subplot(1, 3, 1)\n",
        "imgplot = plt.imshow(third_image)\n",
        "ax.set_title(third_image_prediction)\n",
        "ax = fig.add_subplot(1, 3, 2)\n",
        "imgplot = plt.imshow(second_image)\n",
        "ax.set_title(second_image_prediction)\n",
        "ax = fig.add_subplot(1, 3, 3)\n",
        "imgplot = plt.imshow(first_image)\n",
        "ax.set_title(first_image_prediction)"
      ],
      "metadata": {
        "colab": {
          "base_uri": "https://localhost:8080/",
          "height": 179
        },
        "id": "4QbfDzsHwEwt",
        "outputId": "05657e8b-8283-493b-e919-b794de75dd6b"
      },
      "execution_count": 119,
      "outputs": [
        {
          "output_type": "execute_result",
          "data": {
            "text/plain": [
              "Text(0.5, 1.0, '3')"
            ]
          },
          "metadata": {},
          "execution_count": 119
        },
        {
          "output_type": "display_data",
          "data": {
            "text/plain": [
              "<Figure size 432x288 with 3 Axes>"
            ],
            "image/png": "[encoded data removed]"
          },
          "metadata": {
            "needs_background": "light"
          }
        }
      ]
    }
  ]
}